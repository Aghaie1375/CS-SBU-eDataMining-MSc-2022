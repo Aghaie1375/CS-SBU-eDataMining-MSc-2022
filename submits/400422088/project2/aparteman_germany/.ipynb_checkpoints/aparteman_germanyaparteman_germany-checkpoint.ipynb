{
 "cells": [
  {
   "cell_type": "code",
   "execution_count": 1,
   "id": "402f56ad",
   "metadata": {},
   "outputs": [],
   "source": [
    "import pandas as pd\n",
    "import matplotlib.pyplot as plt\n",
    "import numpy as np\n",
    "from sklearn.preprocessing import OneHotEncoder\n",
    "from sklearn.preprocessing import StandardScaler\n",
    "from sklearn.model_selection import train_test_split\n",
    "from sklearn.linear_model import LinearRegression\n",
    "from sklearn.linear_model import Lasso\n",
    "from sklearn.linear_model import Ridge\n",
    "from sklearn.compose import ColumnTransformer\n",
    "from sklearn import metrics\n",
    "%matplotlib inline"
   ]
  },
  {
   "cell_type": "code",
   "execution_count": 2,
   "id": "1c20b3bd-ec2d-45e0-964e-30742c2ba6b5",
   "metadata": {},
   "outputs": [],
   "source": [
    "df_org = pd.read_csv(\"/../home/tweet/dataset/apartemangermany/immo_data.csv\", \n",
    "                  usecols=['serviceCharge', 'heatingType', 'telekomUploadSpeed', 'totalRent']\n",
    "                )"
   ]
  },
  {
   "cell_type": "code",
   "execution_count": 3,
   "id": "8179a360-2e63-463d-b584-4a400d51540a",
   "metadata": {},
   "outputs": [],
   "source": [
    "df = df_org.copy()"
   ]
  },
  {
   "cell_type": "code",
   "execution_count": 4,
   "id": "af9eabb8-65a9-462d-8604-ac301b643109",
   "metadata": {},
   "outputs": [
    {
     "data": {
      "text/plain": [
       "Index(['serviceCharge', 'heatingType', 'telekomUploadSpeed', 'totalRent'], dtype='object')"
      ]
     },
     "execution_count": 4,
     "metadata": {},
     "output_type": "execute_result"
    }
   ],
   "source": [
    "df.columns"
   ]
  },
  {
   "cell_type": "code",
   "execution_count": 5,
   "id": "e07aa61f-8fa7-43ff-bc9c-641f0037dedc",
   "metadata": {},
   "outputs": [
    {
     "data": {
      "text/html": [
       "<div>\n",
       "<style scoped>\n",
       "    .dataframe tbody tr th:only-of-type {\n",
       "        vertical-align: middle;\n",
       "    }\n",
       "\n",
       "    .dataframe tbody tr th {\n",
       "        vertical-align: top;\n",
       "    }\n",
       "\n",
       "    .dataframe thead th {\n",
       "        text-align: right;\n",
       "    }\n",
       "</style>\n",
       "<table border=\"1\" class=\"dataframe\">\n",
       "  <thead>\n",
       "    <tr style=\"text-align: right;\">\n",
       "      <th></th>\n",
       "      <th>serviceCharge</th>\n",
       "      <th>heatingType</th>\n",
       "      <th>telekomUploadSpeed</th>\n",
       "      <th>totalRent</th>\n",
       "    </tr>\n",
       "  </thead>\n",
       "  <tbody>\n",
       "    <tr>\n",
       "      <th>0</th>\n",
       "      <td>245.0</td>\n",
       "      <td>central_heating</td>\n",
       "      <td>10.0</td>\n",
       "      <td>840.0</td>\n",
       "    </tr>\n",
       "    <tr>\n",
       "      <th>1</th>\n",
       "      <td>134.0</td>\n",
       "      <td>self_contained_central_heating</td>\n",
       "      <td>10.0</td>\n",
       "      <td>NaN</td>\n",
       "    </tr>\n",
       "  </tbody>\n",
       "</table>\n",
       "</div>"
      ],
      "text/plain": [
       "   serviceCharge                     heatingType  telekomUploadSpeed  \\\n",
       "0          245.0                 central_heating                10.0   \n",
       "1          134.0  self_contained_central_heating                10.0   \n",
       "\n",
       "   totalRent  \n",
       "0      840.0  \n",
       "1        NaN  "
      ]
     },
     "execution_count": 5,
     "metadata": {},
     "output_type": "execute_result"
    }
   ],
   "source": [
    "df.head(2)"
   ]
  },
  {
   "cell_type": "code",
   "execution_count": 6,
   "id": "9a993f4d-3098-4724-8551-be3674928e70",
   "metadata": {},
   "outputs": [
    {
     "data": {
      "text/plain": [
       "(268850, 4)"
      ]
     },
     "execution_count": 6,
     "metadata": {},
     "output_type": "execute_result"
    }
   ],
   "source": [
    "df.shape"
   ]
  },
  {
   "cell_type": "code",
   "execution_count": 7,
   "id": "70d01198-dd7b-4d13-baef-ea631782a604",
   "metadata": {},
   "outputs": [
    {
     "name": "stdout",
     "output_type": "stream",
     "text": [
      "<class 'pandas.core.frame.DataFrame'>\n",
      "RangeIndex: 268850 entries, 0 to 268849\n",
      "Data columns (total 4 columns):\n",
      " #   Column              Non-Null Count   Dtype  \n",
      "---  ------              --------------   -----  \n",
      " 0   serviceCharge       261941 non-null  float64\n",
      " 1   heatingType         223994 non-null  object \n",
      " 2   telekomUploadSpeed  235492 non-null  float64\n",
      " 3   totalRent           228333 non-null  float64\n",
      "dtypes: float64(3), object(1)\n",
      "memory usage: 8.2+ MB\n"
     ]
    }
   ],
   "source": [
    "df.info()"
   ]
  },
  {
   "cell_type": "markdown",
   "id": "804659ba-3614-4176-934c-c90b95a069db",
   "metadata": {},
   "source": [
    "# Cleansing"
   ]
  },
  {
   "cell_type": "code",
   "execution_count": 8,
   "id": "c0538ed2-4065-48f6-93ae-9538d7cabb91",
   "metadata": {},
   "outputs": [
    {
     "name": "stdout",
     "output_type": "stream",
     "text": [
      "serviceCharge  => 2.5698344801934163\n",
      "heatingType  => 16.68439650362656\n",
      "telekomUploadSpeed  => 12.407662265203644\n",
      "totalRent  => 15.070485400781106\n"
     ]
    }
   ],
   "source": [
    "for col in df.columns:\n",
    "    print(col,\" =>\", df[col].isnull().sum()/len(df[col])*100)"
   ]
  },
  {
   "cell_type": "code",
   "execution_count": 9,
   "id": "bbe9c332-c479-44cd-9e68-b306c399b8b5",
   "metadata": {},
   "outputs": [],
   "source": [
    "df.serviceCharge.fillna(df.serviceCharge.median(), inplace=True)\n",
    "df.heatingType.fillna(df.heatingType.mode()[0], inplace=True)\n",
    "df.telekomUploadSpeed.fillna(df.telekomUploadSpeed.median(), inplace=True)\n",
    "df.totalRent.fillna(df.totalRent.median(), inplace=True)"
   ]
  },
  {
   "cell_type": "code",
   "execution_count": 10,
   "id": "9837f15a-6934-4950-a1d7-9354e4d5c285",
   "metadata": {},
   "outputs": [
    {
     "data": {
      "text/html": [
       "<div>\n",
       "<style scoped>\n",
       "    .dataframe tbody tr th:only-of-type {\n",
       "        vertical-align: middle;\n",
       "    }\n",
       "\n",
       "    .dataframe tbody tr th {\n",
       "        vertical-align: top;\n",
       "    }\n",
       "\n",
       "    .dataframe thead th {\n",
       "        text-align: right;\n",
       "    }\n",
       "</style>\n",
       "<table border=\"1\" class=\"dataframe\">\n",
       "  <thead>\n",
       "    <tr style=\"text-align: right;\">\n",
       "      <th></th>\n",
       "      <th>serviceCharge</th>\n",
       "      <th>telekomUploadSpeed</th>\n",
       "      <th>totalRent</th>\n",
       "    </tr>\n",
       "  </thead>\n",
       "  <tbody>\n",
       "    <tr>\n",
       "      <th>count</th>\n",
       "      <td>268850.000000</td>\n",
       "      <td>268850.000000</td>\n",
       "      <td>2.688500e+05</td>\n",
       "    </tr>\n",
       "    <tr>\n",
       "      <th>mean</th>\n",
       "      <td>150.789643</td>\n",
       "      <td>30.193975</td>\n",
       "      <td>8.634546e+02</td>\n",
       "    </tr>\n",
       "    <tr>\n",
       "      <th>std</th>\n",
       "      <td>304.319451</td>\n",
       "      <td>15.729180</td>\n",
       "      <td>3.063164e+04</td>\n",
       "    </tr>\n",
       "    <tr>\n",
       "      <th>min</th>\n",
       "      <td>0.000000</td>\n",
       "      <td>1.000000</td>\n",
       "      <td>0.000000e+00</td>\n",
       "    </tr>\n",
       "    <tr>\n",
       "      <th>25%</th>\n",
       "      <td>96.000000</td>\n",
       "      <td>10.000000</td>\n",
       "      <td>4.950000e+02</td>\n",
       "    </tr>\n",
       "    <tr>\n",
       "      <th>50%</th>\n",
       "      <td>135.000000</td>\n",
       "      <td>40.000000</td>\n",
       "      <td>6.500000e+02</td>\n",
       "    </tr>\n",
       "    <tr>\n",
       "      <th>75%</th>\n",
       "      <td>185.000000</td>\n",
       "      <td>40.000000</td>\n",
       "      <td>9.000000e+02</td>\n",
       "    </tr>\n",
       "    <tr>\n",
       "      <th>max</th>\n",
       "      <td>146118.000000</td>\n",
       "      <td>100.000000</td>\n",
       "      <td>1.575154e+07</td>\n",
       "    </tr>\n",
       "  </tbody>\n",
       "</table>\n",
       "</div>"
      ],
      "text/plain": [
       "       serviceCharge  telekomUploadSpeed     totalRent\n",
       "count  268850.000000       268850.000000  2.688500e+05\n",
       "mean      150.789643           30.193975  8.634546e+02\n",
       "std       304.319451           15.729180  3.063164e+04\n",
       "min         0.000000            1.000000  0.000000e+00\n",
       "25%        96.000000           10.000000  4.950000e+02\n",
       "50%       135.000000           40.000000  6.500000e+02\n",
       "75%       185.000000           40.000000  9.000000e+02\n",
       "max    146118.000000          100.000000  1.575154e+07"
      ]
     },
     "execution_count": 10,
     "metadata": {},
     "output_type": "execute_result"
    }
   ],
   "source": [
    "df.describe()"
   ]
  },
  {
   "cell_type": "markdown",
   "id": "ac0a6096-1a06-4db5-af8d-e3de828d1ef1",
   "metadata": {},
   "source": [
    "# Outliers"
   ]
  },
  {
   "cell_type": "code",
   "execution_count": 11,
   "id": "636a4556-a765-49f6-b22f-f393fffc23b4",
   "metadata": {},
   "outputs": [
    {
     "data": {
      "text/plain": [
       "serviceCharge         197151.674512\n",
       "telekomUploadSpeed        -0.765917\n",
       "totalRent             260044.391607\n",
       "dtype: float64"
      ]
     },
     "execution_count": 11,
     "metadata": {},
     "output_type": "execute_result"
    }
   ],
   "source": [
    "# Return unbiased kurtosis over requested axis using Fisher's definition of kurtosis (kurtosis of normal == 0.0).\n",
    "# The result is normalized by N-1\n",
    "kurt = df.kurt(numeric_only=True)[:]\n",
    "kurt"
   ]
  },
  {
   "cell_type": "code",
   "execution_count": 12,
   "id": "08498cab-54a5-479c-a29c-565cc2ff9727",
   "metadata": {},
   "outputs": [],
   "source": [
    "outliers = ['serviceCharge', 'totalRent']"
   ]
  },
  {
   "cell_type": "code",
   "execution_count": 13,
   "id": "b26b7b76-a2a0-493a-ae9b-1d2be4ea145e",
   "metadata": {},
   "outputs": [
    {
     "data": {
      "image/png": "[encoded data removed]",
      "text/plain": [
       "<Figure size 288x288 with 1 Axes>"
      ]
     },
     "metadata": {
      "needs_background": "light"
     },
     "output_type": "display_data"
    },
    {
     "data": {
      "image/png": "[encoded data removed]",
      "text/plain": [
       "<Figure size 288x288 with 1 Axes>"
      ]
     },
     "metadata": {
      "needs_background": "light"
     },
     "output_type": "display_data"
    }
   ],
   "source": [
    "for col in outliers:\n",
    "    plt.figure(figsize=(4, 4))\n",
    "    df.boxplot(column=[col])"
   ]
  },
  {
   "cell_type": "code",
   "execution_count": 14,
   "id": "cacda67e-ae65-49a8-8636-331a03e14db8",
   "metadata": {},
   "outputs": [],
   "source": [
    "def outliers_iqr(ys):\n",
    "    quartile_1, quartile_3 = np.percentile(ys, [25, 75])\n",
    "    iqr = quartile_3 - quartile_1\n",
    "    lower_bound = quartile_1 - (iqr * 1.5)\n",
    "    upper_bound = quartile_3 + (iqr * 1.5)\n",
    "    return np.where((ys > upper_bound) | (ys < lower_bound))"
   ]
  },
  {
   "cell_type": "code",
   "execution_count": 15,
   "id": "b4a585b0-a157-4beb-bbc8-6cf4b34f0172",
   "metadata": {},
   "outputs": [
    {
     "name": "stdout",
     "output_type": "stream",
     "text": [
      "serviceCharge: 10271\n",
      "totalRent: 20025\n"
     ]
    }
   ],
   "source": [
    "for col in outliers:\n",
    "    print(f'{col}: {len(outliers_iqr(df[col])[0])}')"
   ]
  },
  {
   "cell_type": "code",
   "execution_count": 16,
   "id": "a285b010-0085-427e-b45f-548416fdbfcf",
   "metadata": {},
   "outputs": [],
   "source": [
    "def outliers_z_score(ys):\n",
    "    threshold = 3\n",
    "    mean_y = np.mean(ys)\n",
    "    stdev_y = np.std(ys)\n",
    "    z_scores = [(y - mean_y) / stdev_y for y in ys]\n",
    "    return np.where(np.abs(z_scores) > threshold)"
   ]
  },
  {
   "cell_type": "code",
   "execution_count": 17,
   "id": "33175fba-2f84-48b4-b387-794b17f6a0f7",
   "metadata": {},
   "outputs": [
    {
     "name": "stdout",
     "output_type": "stream",
     "text": [
      "serviceCharge: 98\n",
      "totalRent: 6\n"
     ]
    }
   ],
   "source": [
    "for col in outliers:\n",
    "    print(f'{col}: {len(outliers_z_score(df[col])[0])}')"
   ]
  },
  {
   "cell_type": "code",
   "execution_count": 18,
   "id": "436e4d01-13f7-4745-a836-5312ba840034",
   "metadata": {},
   "outputs": [],
   "source": [
    "for i in outliers:\n",
    "    quartile_1, quartile_3 = np.percentile(df[i], [25, 75])\n",
    "    iqr = quartile_3 - quartile_1\n",
    "    lower_bound = quartile_1 - (iqr * 1.5)\n",
    "    upper_bound = quartile_3 + (iqr * 1.5)\n",
    "    df = df[df[i]<upper_bound]\n",
    "    df = df[df[i]>lower_bound]"
   ]
  },
  {
   "cell_type": "code",
   "execution_count": 19,
   "id": "23998495-10d3-4cb1-bf3e-020efa83694c",
   "metadata": {},
   "outputs": [],
   "source": [
    "#for i in outliers:\n",
    "#     mean_y = np.mean(df[i])\n",
    "#     stdev_y = np.std(df[i])\n",
    "#     lower_bound = mean_y - (3 * stdev_y)\n",
    "#     upper_bound = mean_y + (3 * stdev_y)\n",
    "#     df = df[df[i]<upper_bound]\n",
    "#     df = df[df[i]>lower_bound]"
   ]
  },
  {
   "cell_type": "code",
   "execution_count": 20,
   "id": "ef3ebe79-fea5-4f3d-b35a-73bb9cdabf42",
   "metadata": {},
   "outputs": [
    {
     "data": {
      "text/plain": [
       "central_heating                   159389\n",
       "district_heating                   22260\n",
       "gas_heating                        18191\n",
       "self_contained_central_heating     18058\n",
       "floor_heating                      12100\n",
       "oil_heating                         4642\n",
       "heat_pump                           2175\n",
       "combined_heat_and_power_plant       1519\n",
       "night_storage_heater                1322\n",
       "electric_heating                     871\n",
       "wood_pellet_heating                  780\n",
       "stove_heating                        335\n",
       "solar_heating                        128\n",
       "Name: heatingType, dtype: int64"
      ]
     },
     "execution_count": 20,
     "metadata": {},
     "output_type": "execute_result"
    }
   ],
   "source": [
    "df.heatingType.value_counts()"
   ]
  },
  {
   "cell_type": "code",
   "execution_count": 21,
   "id": "7ead70ea-830e-497b-a738-85739479c840",
   "metadata": {},
   "outputs": [
    {
     "data": {
      "image/png": "[encoded data removed]",
      "text/plain": [
       "<Figure size 720x720 with 1 Axes>"
      ]
     },
     "metadata": {
      "needs_background": "light"
     },
     "output_type": "display_data"
    }
   ],
   "source": [
    "plt.figure(figsize=(10, 10))\n",
    "data = df.heatingType.value_counts()[:10]\n",
    "x = list(data.index)\n",
    "y = list(data.values)\n",
    "x.reverse()\n",
    "y.reverse()\n",
    "\n",
    "plt.title(\"heatingType\")\n",
    "plt.ylabel(\"heatingType\")\n",
    "plt.xlabel(\"Number\")\n",
    "\n",
    "plt.barh(x, y)\n",
    "plt.show()"
   ]
  },
  {
   "cell_type": "code",
   "execution_count": 22,
   "id": "13d1ee22-fc50-4c41-824e-9e3fd107a406",
   "metadata": {},
   "outputs": [],
   "source": [
    "def filter(x):\n",
    "    if x in [\n",
    "    'oil_heating', 'combined_heat_and_power_plant', 'heat_pump', 'night_storage_heater', \n",
    "    'wood_pellet_heating', 'electric_heating', 'stove_heating', 'solar_heating'\n",
    "] :\n",
    "        x = 'other'\n",
    "        return x\n",
    "    else:\n",
    "        return x\n",
    "df.heatingType = df.heatingType.apply(filter)"
   ]
  },
  {
   "cell_type": "code",
   "execution_count": 23,
   "id": "7e6e7b08-568b-4787-9aa9-bc7fdbba84ea",
   "metadata": {},
   "outputs": [
    {
     "data": {
      "image/png": "[encoded data removed]",
      "text/plain": [
       "<Figure size 720x720 with 1 Axes>"
      ]
     },
     "metadata": {
      "needs_background": "light"
     },
     "output_type": "display_data"
    }
   ],
   "source": [
    "plt.figure(figsize=(10, 10))\n",
    "data = df.heatingType.value_counts()[:10]\n",
    "x = list(data.index)\n",
    "y = list(data.values)\n",
    "x.reverse()\n",
    "y.reverse()\n",
    "\n",
    "plt.title(\"heatingType\")\n",
    "plt.ylabel(\"heatingType\")\n",
    "plt.xlabel(\"Number\")\n",
    "\n",
    "plt.barh(x, y)\n",
    "plt.show()"
   ]
  },
  {
   "cell_type": "markdown",
   "id": "f940ee49-4922-4dae-bbf9-ee5e6e7718f1",
   "metadata": {},
   "source": [
    "# Preprocessing"
   ]
  },
  {
   "cell_type": "code",
   "execution_count": 24,
   "id": "97b60b8a-14ab-49af-b98f-50e951a8d898",
   "metadata": {},
   "outputs": [
    {
     "data": {
      "text/plain": [
       "Index(['serviceCharge', 'heatingType', 'telekomUploadSpeed', 'totalRent'], dtype='object')"
      ]
     },
     "execution_count": 24,
     "metadata": {},
     "output_type": "execute_result"
    }
   ],
   "source": [
    "df.columns"
   ]
  },
  {
   "cell_type": "code",
   "execution_count": 25,
   "id": "36649fb3-5399-4792-b091-9da269636f60",
   "metadata": {},
   "outputs": [],
   "source": [
    "y = df.pop('totalRent')\n",
    "X = df"
   ]
  },
  {
   "cell_type": "code",
   "execution_count": 26,
   "id": "6c1f922f-db8c-4f12-be81-2b2a61f534fb",
   "metadata": {},
   "outputs": [],
   "source": [
    "y = pd.DataFrame(data=y, columns=['totalRent'])"
   ]
  },
  {
   "cell_type": "code",
   "execution_count": 27,
   "id": "a9bf0cc1-d4c7-4452-a0a7-8d1f133598f4",
   "metadata": {},
   "outputs": [
    {
     "data": {
      "text/html": [
       "<div>\n",
       "<style scoped>\n",
       "    .dataframe tbody tr th:only-of-type {\n",
       "        vertical-align: middle;\n",
       "    }\n",
       "\n",
       "    .dataframe tbody tr th {\n",
       "        vertical-align: top;\n",
       "    }\n",
       "\n",
       "    .dataframe thead th {\n",
       "        text-align: right;\n",
       "    }\n",
       "</style>\n",
       "<table border=\"1\" class=\"dataframe\">\n",
       "  <thead>\n",
       "    <tr style=\"text-align: right;\">\n",
       "      <th></th>\n",
       "      <th>totalRent</th>\n",
       "    </tr>\n",
       "  </thead>\n",
       "  <tbody>\n",
       "    <tr>\n",
       "      <th>163884</th>\n",
       "      <td>1197.0</td>\n",
       "    </tr>\n",
       "    <tr>\n",
       "      <th>170230</th>\n",
       "      <td>438.5</td>\n",
       "    </tr>\n",
       "    <tr>\n",
       "      <th>139873</th>\n",
       "      <td>650.0</td>\n",
       "    </tr>\n",
       "  </tbody>\n",
       "</table>\n",
       "</div>"
      ],
      "text/plain": [
       "        totalRent\n",
       "163884     1197.0\n",
       "170230      438.5\n",
       "139873      650.0"
      ]
     },
     "execution_count": 27,
     "metadata": {},
     "output_type": "execute_result"
    }
   ],
   "source": [
    "X_train,X_test,y_train,y_test = train_test_split(X,y,test_size=0.2)\n",
    "\n",
    "y_train.head(3)"
   ]
  },
  {
   "cell_type": "code",
   "execution_count": 28,
   "id": "388c63c6-b69b-45b5-ba47-a226366efc86",
   "metadata": {},
   "outputs": [
    {
     "data": {
      "text/plain": [
       "(193416, 3)"
      ]
     },
     "execution_count": 28,
     "metadata": {},
     "output_type": "execute_result"
    }
   ],
   "source": [
    "X_train.shape"
   ]
  },
  {
   "cell_type": "code",
   "execution_count": 29,
   "id": "2731b8b9-1afc-4b25-bc83-30b272595a93",
   "metadata": {},
   "outputs": [],
   "source": [
    "ohe = OneHotEncoder(handle_unknown='ignore', sparse=False)\n",
    "ss = StandardScaler()"
   ]
  },
  {
   "cell_type": "code",
   "execution_count": 30,
   "id": "95655d86-2b5c-45fb-9f95-137986ec2db9",
   "metadata": {},
   "outputs": [],
   "source": [
    "preprocessor_x = ColumnTransformer(\n",
    "    transformers=[\n",
    "            ('serviceCharge', ss, ['serviceCharge']),\n",
    "            ('telekomUploadSpeed', ss, ['telekomUploadSpeed']),\n",
    "            ('heatingType', ohe, ['heatingType']),       \n",
    "])\n",
    "\n",
    "preprocessor_y = ColumnTransformer(\n",
    "    transformers=[\n",
    "            ('totalRent', ss, ['totalRent']),    \n",
    "])"
   ]
  },
  {
   "cell_type": "code",
   "execution_count": 31,
   "id": "238d65af-1cc7-43ca-a92c-d15c0aa3600d",
   "metadata": {},
   "outputs": [],
   "source": [
    "fitter_y = preprocessor_y.fit(y_train)\n",
    "fitter_x = preprocessor_x.fit(X_train)"
   ]
  },
  {
   "cell_type": "code",
   "execution_count": 32,
   "id": "56b097c1-dc41-4eb4-adde-5e952bfee85f",
   "metadata": {},
   "outputs": [],
   "source": [
    "y_train = fitter_y.transform(y_train)\n",
    "y_test = fitter_y.transform(y_test)\n",
    "X_train = fitter_x.transform(X_train)\n",
    "X_test = fitter_x.transform(X_test)"
   ]
  },
  {
   "cell_type": "code",
   "execution_count": 43,
   "id": "15e0788e-9eac-449e-8ece-53abec6b8e91",
   "metadata": {},
   "outputs": [
    {
     "name": "stdout",
     "output_type": "stream",
     "text": [
      "train x shape: (200, 8)\n",
      "train y shape: (200, 1)\n",
      "test x shape: (48354, 8)\n",
      "test y shape: (48354, 1)\n"
     ]
    }
   ],
   "source": [
    "print(f'train x shape: {X_train.shape}')\n",
    "print(f'train y shape: {y_train.shape}')\n",
    "print(f'test x shape: {X_test.shape}')\n",
    "print(f'test y shape: {y_test.shape}')\n"
   ]
  },
  {
   "cell_type": "markdown",
   "id": "b64baedf-8f74-45dd-ac4b-5a4a064fbece",
   "metadata": {},
   "source": [
    "# Scratch"
   ]
  },
  {
   "cell_type": "code",
   "execution_count": 305,
   "id": "b9a50e22-a0ea-4fef-9604-6964076e9031",
   "metadata": {},
   "outputs": [],
   "source": [
    "# Linear reggression\n",
    "class Net() :   \n",
    "    def __init__( self, learning_rate=0.01 , iterations=1000 , method='mse') :\n",
    "        self.learning_rate = learning_rate\n",
    "        self.iterations = iterations \n",
    "        self.method = method\n",
    "\n",
    "    \n",
    "    # Function for model training        \n",
    "    def fit( self, X, Y ) : \n",
    "        # no_of_training_examples, no_of_features\n",
    "        self.m, self.n = X.shape \n",
    "        # weight initialization \n",
    "        self.W = np.random.rand( self.n ) \n",
    "        self.b = 0 \n",
    "        self.X = X \n",
    "        self.Y = Y \n",
    "        # gradient descent learning         \n",
    "        for i in range( self.iterations ) :\n",
    "            self.update_weights(X, Y)  \n",
    "        return self\n",
    "    \n",
    "    \n",
    "    # Helper function to update weights in gradient descent \n",
    "    def update_weights( self, X, Y ) :\n",
    "        Y_pred = self.predict( X )\n",
    "        \n",
    "        # calculate gradients\n",
    "        \n",
    "        # Linear reggression with minimum square error\n",
    "        if self.method == 'mse':\n",
    "            se = (Y.T - Y_pred) \n",
    "            se = se.T\n",
    "            dW = - ( 2 * ( X.T ).dot( se )  ) / self.m\n",
    "            db = - 2 * np.sum( se ) / self.m\n",
    "            \n",
    "        # Linear reggression with minimum absolute error\n",
    "        elif self.method == 'ae':\n",
    "            se = abs(Y.T - Y_pred) / 2\n",
    "            se = se.T\n",
    "            dW = - ( 2 * ( X.T ).dot( se )  ) / self.m\n",
    "            db = - 2 * np.sum( se ) / self.m\n",
    "        \n",
    "        # Linear reggression with Epsilon Sensitive Error\n",
    "        elif self.method == 'ese':\n",
    "            pass\n",
    "        \n",
    "        dW = np.asarray(dW)\n",
    "        dW = dW.reshape(8,)\n",
    "        self.W = self.W - self.learning_rate * dW\n",
    "        self.b = self.b - self.learning_rate * db \n",
    "        return self\n",
    "    \n",
    "    # Hypothetical function  h( x )  \n",
    "    def predict( self, X ) :\n",
    "        return (X.dot( self.W ) + self.b)"
   ]
  },
  {
   "cell_type": "markdown",
   "id": "8a273cdf-ecbf-4d13-9948-e617d4585b51",
   "metadata": {},
   "source": [
    "# Linear reggression with minimum square error"
   ]
  },
  {
   "cell_type": "code",
   "execution_count": 306,
   "id": "5d7e1f01-da6b-45f2-a7db-28ed0b8f7477",
   "metadata": {},
   "outputs": [],
   "source": [
    "model_mse = Net(method='mse')"
   ]
  },
  {
   "cell_type": "code",
   "execution_count": 307,
   "id": "75a5a467-6942-401a-8d6f-baa0a46f2381",
   "metadata": {},
   "outputs": [
    {
     "data": {
      "text/plain": [
       "<__main__.Net at 0x7f30dae58070>"
      ]
     },
     "execution_count": 307,
     "metadata": {},
     "output_type": "execute_result"
    }
   ],
   "source": [
    "model_mse.fit(X_train, y_train)"
   ]
  },
  {
   "cell_type": "code",
   "execution_count": 308,
   "id": "14280d8b-dfd7-4c4f-849d-604e411b416e",
   "metadata": {},
   "outputs": [
    {
     "name": "stdout",
     "output_type": "stream",
     "text": [
      "[0.51247643 0.02328637 0.21860312 0.32390868 0.82613084 0.31798014\n",
      " 0.52988338 0.43039462]\n",
      "-0.2978064240488342\n",
      "linear reggression R^2: test 0.31302322636645297\n"
     ]
    }
   ],
   "source": [
    "print(model_mse.W)\n",
    "print(model_mse.b)\n",
    "y_pre_test_mse = model_mse.predict(X_test)\n",
    "y_pre_test_mse = y_pre_test_mse.reshape(-1, 1)\n",
    "print('linear reggression R^2: test', metrics.r2_score(y_test, y_pre_test_mse))"
   ]
  },
  {
   "cell_type": "markdown",
   "id": "342a5690-91ee-4d57-88ff-9c46999dcfa9",
   "metadata": {},
   "source": [
    "# Linear reggression with Absolute Error"
   ]
  },
  {
   "cell_type": "code",
   "execution_count": 309,
   "id": "5fed7056-3363-4231-9c6b-e27f025ff257",
   "metadata": {},
   "outputs": [],
   "source": [
    "model_ae = Net(method='ae')"
   ]
  },
  {
   "cell_type": "code",
   "execution_count": 310,
   "id": "a1751c16-f566-44b4-8226-235fdc2acf6f",
   "metadata": {},
   "outputs": [
    {
     "data": {
      "text/plain": [
       "<__main__.Net at 0x7f30cffb8e20>"
      ]
     },
     "execution_count": 310,
     "metadata": {},
     "output_type": "execute_result"
    }
   ],
   "source": [
    "model_ae.fit(X_train, y_train)"
   ]
  },
  {
   "cell_type": "code",
   "execution_count": 311,
   "id": "71b0fcd1-e9c4-43d4-8dda-44434623453b",
   "metadata": {},
   "outputs": [
    {
     "name": "stdout",
     "output_type": "stream",
     "text": [
      "[ -30374.33713449    5316.33906653 1483312.36910077  124995.18500957\n",
      "   65066.47647775  100655.30614147   63786.53331883  100814.875013  ]\n",
      "1938627.421773713\n",
      "linear reggression R^2: test -9099424453779.033\n"
     ]
    }
   ],
   "source": [
    "print(model_ae.W)\n",
    "print(model_ae.b)\n",
    "y_pre_test_ae = model_ae.predict(X_test)\n",
    "y_pre_test_ae = y_pre_test_ae.reshape(-1, 1)\n",
    "print('linear reggression R^2: test', metrics.r2_score(y_test, y_pre_test_ae))"
   ]
  },
  {
   "cell_type": "markdown",
   "id": "cfe7d364-d05c-4dba-94be-e31100e24711",
   "metadata": {},
   "source": [
    "# Linear reggression with Epsilon Sensitive Error"
   ]
  },
  {
   "cell_type": "code",
   "execution_count": 312,
   "id": "da9c1831-aba8-448b-be91-f855c09fafb0",
   "metadata": {},
   "outputs": [],
   "source": [
    "# Linear reggression with Epsilon Sensitive Error\n",
    "model_mse = Net(method='ese')"
   ]
  },
  {
   "cell_type": "markdown",
   "id": "5e278326-0178-4bbe-964f-9d508d329a69",
   "metadata": {},
   "source": [
    "# Sklearn pakage"
   ]
  },
  {
   "cell_type": "markdown",
   "id": "66d443ad-1d3c-462c-843f-e53c8d8e6c2f",
   "metadata": {},
   "source": [
    "# LinearRegression"
   ]
  },
  {
   "cell_type": "code",
   "execution_count": 313,
   "id": "4bfd89b7-438b-4c7e-b077-81624bbb1242",
   "metadata": {},
   "outputs": [],
   "source": [
    "model_lr = LinearRegression()"
   ]
  },
  {
   "cell_type": "code",
   "execution_count": 314,
   "id": "c628a302-c0ab-49dd-8448-8f46ca3e4007",
   "metadata": {},
   "outputs": [
    {
     "data": {
      "text/plain": [
       "LinearRegression()"
      ]
     },
     "execution_count": 314,
     "metadata": {},
     "output_type": "execute_result"
    }
   ],
   "source": [
    "model_lr.fit(X_train, y_train)"
   ]
  },
  {
   "cell_type": "code",
   "execution_count": 315,
   "id": "3dc8235d-32e5-42d7-99e3-64c6b5200d3b",
   "metadata": {},
   "outputs": [
    {
     "name": "stdout",
     "output_type": "stream",
     "text": [
      "linear reggression Variance score train: 0.3122037348182187\n"
     ]
    }
   ],
   "source": [
    "print('linear reggression Variance score train:', model_lr.score(X_train, y_train))"
   ]
  },
  {
   "cell_type": "code",
   "execution_count": 316,
   "id": "96602c4a-ff4b-4b5f-8673-551fb0638123",
   "metadata": {},
   "outputs": [],
   "source": [
    "y_pred_test = model_lr.predict(X_test)"
   ]
  },
  {
   "cell_type": "code",
   "execution_count": 317,
   "id": "9644710e-f7e5-403e-87a6-f7d0e88b8266",
   "metadata": {},
   "outputs": [
    {
     "name": "stdout",
     "output_type": "stream",
     "text": [
      "linear reggression R^2: test 0.31555708149383144\n"
     ]
    }
   ],
   "source": [
    "print('linear reggression R^2: test', metrics.r2_score(y_test, y_pred_test))"
   ]
  },
  {
   "cell_type": "markdown",
   "id": "84beec3a-8f9a-4880-9a7b-ed7cd628f946",
   "metadata": {},
   "source": [
    "# Lasso"
   ]
  },
  {
   "cell_type": "code",
   "execution_count": 318,
   "id": "66846f04-06cc-4fcf-9939-0b36473b8df8",
   "metadata": {},
   "outputs": [],
   "source": [
    "model_lasso = Lasso()"
   ]
  },
  {
   "cell_type": "code",
   "execution_count": 319,
   "id": "205f91ee-bd3b-4f8d-b459-d998a9a3b914",
   "metadata": {},
   "outputs": [
    {
     "data": {
      "text/plain": [
       "Lasso()"
      ]
     },
     "execution_count": 319,
     "metadata": {},
     "output_type": "execute_result"
    }
   ],
   "source": [
    "model_lasso.fit(X_train, y_train)"
   ]
  },
  {
   "cell_type": "code",
   "execution_count": 320,
   "id": "9bee3edc-efe0-41f3-a13a-c83f8d4b4f2e",
   "metadata": {},
   "outputs": [
    {
     "name": "stdout",
     "output_type": "stream",
     "text": [
      "lasso Variance score train: 0.0\n"
     ]
    }
   ],
   "source": [
    "print('lasso Variance score train:', model_lasso.score(X_train, y_train))"
   ]
  },
  {
   "cell_type": "code",
   "execution_count": 321,
   "id": "542bcbf3-17cb-4e25-8859-52d0983268b2",
   "metadata": {},
   "outputs": [],
   "source": [
    "y_pred_test_lasso = model_lasso.predict(X_test)"
   ]
  },
  {
   "cell_type": "code",
   "execution_count": 322,
   "id": "66781c11-38c1-4503-ad92-0a4cf324a836",
   "metadata": {},
   "outputs": [
    {
     "name": "stdout",
     "output_type": "stream",
     "text": [
      "lasso reggression R^2: test -1.8593291330137873e-05\n"
     ]
    }
   ],
   "source": [
    "print('lasso reggression R^2: test', metrics.r2_score(y_test, y_pred_test_lasso))"
   ]
  },
  {
   "cell_type": "markdown",
   "id": "9d1aaddb-05db-4078-84ed-fae98d56c59a",
   "metadata": {},
   "source": [
    "# Ridge"
   ]
  },
  {
   "cell_type": "code",
   "execution_count": 323,
   "id": "fc0e711d-a45e-4422-b395-30d2d4dab0f9",
   "metadata": {},
   "outputs": [],
   "source": [
    "model_ridge = Ridge()"
   ]
  },
  {
   "cell_type": "code",
   "execution_count": 324,
   "id": "28d187a4-deae-495c-9b5d-f4374be11ebb",
   "metadata": {},
   "outputs": [
    {
     "data": {
      "text/plain": [
       "Ridge()"
      ]
     },
     "execution_count": 324,
     "metadata": {},
     "output_type": "execute_result"
    }
   ],
   "source": [
    "model_ridge.fit(X_train, y_train)"
   ]
  },
  {
   "cell_type": "code",
   "execution_count": 325,
   "id": "c9e96a96-809f-476e-bccc-8e920aeed3e2",
   "metadata": {},
   "outputs": [
    {
     "name": "stdout",
     "output_type": "stream",
     "text": [
      "Ridge Variance score train: 0.31224185234182733\n"
     ]
    }
   ],
   "source": [
    "print('Ridge Variance score train:', model_ridge.score(X_train, y_train))"
   ]
  },
  {
   "cell_type": "code",
   "execution_count": 326,
   "id": "0f598bbf-702e-45bc-8d74-d2777f4eb20a",
   "metadata": {},
   "outputs": [],
   "source": [
    "y_pred_test_ridge = model_ridge.predict(X_test)"
   ]
  },
  {
   "cell_type": "code",
   "execution_count": 327,
   "id": "5756f9ab-ff47-46eb-bfc2-bcc3334a8583",
   "metadata": {},
   "outputs": [
    {
     "name": "stdout",
     "output_type": "stream",
     "text": [
      "ridge reggression R^2: test 0.3155681632081635\n"
     ]
    }
   ],
   "source": [
    "print('ridge reggression R^2: test', metrics.r2_score(y_test, y_pred_test_ridge))"
   ]
  }
 ],
 "metadata": {
  "jupytext": {
   "cell_metadata_filter": "-all",
   "main_language": "python",
   "notebook_metadata_filter": "-all"
  },
  "kernelspec": {
   "display_name": "Python 3",
   "language": "python",
   "name": "python3"
  },
  "language_info": {
   "codemirror_mode": {
    "name": "ipython",
    "version": 3
   },
   "file_extension": ".py",
   "mimetype": "text/x-python",
   "name": "python",
   "nbconvert_exporter": "python",
   "pygments_lexer": "ipython3",
   "version": "3.8.8"
  }
 },
 "nbformat": 4,
 "nbformat_minor": 5
}
