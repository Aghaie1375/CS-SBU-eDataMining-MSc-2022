{
 "cells": [
  {
   "cell_type": "code",
   "execution_count": 71,
   "id": "402f56ad",
   "metadata": {},
   "outputs": [],
   "source": [
    "import pandas as pd\n",
    "import matplotlib.pyplot as plt\n",
    "import numpy as np\n",
    "from sklearn.preprocessing import OneHotEncoder\n",
    "from sklearn.preprocessing import StandardScaler\n",
    "from sklearn.model_selection import train_test_split\n",
    "from sklearn.linear_model import LinearRegression\n",
    "from sklearn.linear_model import Lasso\n",
    "from sklearn.linear_model import Ridge\n",
    "from sklearn.compose import ColumnTransformer\n",
    "from sklearn import metrics\n",
    "%matplotlib inline"
   ]
  },
  {
   "cell_type": "code",
   "execution_count": 72,
   "id": "1c20b3bd-ec2d-45e0-964e-30742c2ba6b5",
   "metadata": {},
   "outputs": [],
   "source": [
    "df_org = pd.read_csv(\"/../home/tweet/dataset/apartemangermany/immo_data.csv\", \n",
    "                  usecols=['serviceCharge', 'heatingType', 'telekomUploadSpeed', 'totalRent']\n",
    "                )"
   ]
  },
  {
   "cell_type": "code",
   "execution_count": 73,
   "id": "8179a360-2e63-463d-b584-4a400d51540a",
   "metadata": {},
   "outputs": [],
   "source": [
    "df = df_org.copy()"
   ]
  },
  {
   "cell_type": "code",
   "execution_count": 74,
   "id": "af9eabb8-65a9-462d-8604-ac301b643109",
   "metadata": {},
   "outputs": [
    {
     "data": {
      "text/plain": [
       "Index(['serviceCharge', 'heatingType', 'telekomUploadSpeed', 'totalRent'], dtype='object')"
      ]
     },
     "execution_count": 74,
     "metadata": {},
     "output_type": "execute_result"
    }
   ],
   "source": [
    "df.columns"
   ]
  },
  {
   "cell_type": "code",
   "execution_count": 75,
   "id": "e07aa61f-8fa7-43ff-bc9c-641f0037dedc",
   "metadata": {},
   "outputs": [
    {
     "data": {
      "text/html": [
       "<div>\n",
       "<style scoped>\n",
       "    .dataframe tbody tr th:only-of-type {\n",
       "        vertical-align: middle;\n",
       "    }\n",
       "\n",
       "    .dataframe tbody tr th {\n",
       "        vertical-align: top;\n",
       "    }\n",
       "\n",
       "    .dataframe thead th {\n",
       "        text-align: right;\n",
       "    }\n",
       "</style>\n",
       "<table border=\"1\" class=\"dataframe\">\n",
       "  <thead>\n",
       "    <tr style=\"text-align: right;\">\n",
       "      <th></th>\n",
       "      <th>serviceCharge</th>\n",
       "      <th>heatingType</th>\n",
       "      <th>telekomUploadSpeed</th>\n",
       "      <th>totalRent</th>\n",
       "    </tr>\n",
       "  </thead>\n",
       "  <tbody>\n",
       "    <tr>\n",
       "      <th>0</th>\n",
       "      <td>245.0</td>\n",
       "      <td>central_heating</td>\n",
       "      <td>10.0</td>\n",
       "      <td>840.0</td>\n",
       "    </tr>\n",
       "    <tr>\n",
       "      <th>1</th>\n",
       "      <td>134.0</td>\n",
       "      <td>self_contained_central_heating</td>\n",
       "      <td>10.0</td>\n",
       "      <td>NaN</td>\n",
       "    </tr>\n",
       "  </tbody>\n",
       "</table>\n",
       "</div>"
      ],
      "text/plain": [
       "   serviceCharge                     heatingType  telekomUploadSpeed  \\\n",
       "0          245.0                 central_heating                10.0   \n",
       "1          134.0  self_contained_central_heating                10.0   \n",
       "\n",
       "   totalRent  \n",
       "0      840.0  \n",
       "1        NaN  "
      ]
     },
     "execution_count": 75,
     "metadata": {},
     "output_type": "execute_result"
    }
   ],
   "source": [
    "df.head(2)"
   ]
  },
  {
   "cell_type": "code",
   "execution_count": 76,
   "id": "9a993f4d-3098-4724-8551-be3674928e70",
   "metadata": {},
   "outputs": [
    {
     "data": {
      "text/plain": [
       "(268850, 4)"
      ]
     },
     "execution_count": 76,
     "metadata": {},
     "output_type": "execute_result"
    }
   ],
   "source": [
    "df.shape"
   ]
  },
  {
   "cell_type": "code",
   "execution_count": 77,
   "id": "70d01198-dd7b-4d13-baef-ea631782a604",
   "metadata": {},
   "outputs": [
    {
     "name": "stdout",
     "output_type": "stream",
     "text": [
      "<class 'pandas.core.frame.DataFrame'>\n",
      "RangeIndex: 268850 entries, 0 to 268849\n",
      "Data columns (total 4 columns):\n",
      " #   Column              Non-Null Count   Dtype  \n",
      "---  ------              --------------   -----  \n",
      " 0   serviceCharge       261941 non-null  float64\n",
      " 1   heatingType         223994 non-null  object \n",
      " 2   telekomUploadSpeed  235492 non-null  float64\n",
      " 3   totalRent           228333 non-null  float64\n",
      "dtypes: float64(3), object(1)\n",
      "memory usage: 8.2+ MB\n"
     ]
    }
   ],
   "source": [
    "df.info()"
   ]
  },
  {
   "cell_type": "markdown",
   "id": "804659ba-3614-4176-934c-c90b95a069db",
   "metadata": {},
   "source": [
    "# Cleansing"
   ]
  },
  {
   "cell_type": "code",
   "execution_count": 78,
   "id": "c0538ed2-4065-48f6-93ae-9538d7cabb91",
   "metadata": {},
   "outputs": [
    {
     "name": "stdout",
     "output_type": "stream",
     "text": [
      "serviceCharge  => 2.5698344801934163\n",
      "heatingType  => 16.68439650362656\n",
      "telekomUploadSpeed  => 12.407662265203644\n",
      "totalRent  => 15.070485400781106\n"
     ]
    }
   ],
   "source": [
    "for col in df.columns:\n",
    "    print(col,\" =>\", df[col].isnull().sum()/len(df[col])*100)"
   ]
  },
  {
   "cell_type": "code",
   "execution_count": 79,
   "id": "bbe9c332-c479-44cd-9e68-b306c399b8b5",
   "metadata": {},
   "outputs": [],
   "source": [
    "df.serviceCharge.fillna(df.serviceCharge.median(), inplace=True)\n",
    "df.heatingType.fillna(df.heatingType.mode()[0], inplace=True)\n",
    "df.telekomUploadSpeed.fillna(df.telekomUploadSpeed.median(), inplace=True)\n",
    "df.totalRent.fillna(df.totalRent.median(), inplace=True)"
   ]
  },
  {
   "cell_type": "code",
   "execution_count": 80,
   "id": "9837f15a-6934-4950-a1d7-9354e4d5c285",
   "metadata": {},
   "outputs": [
    {
     "data": {
      "text/html": [
       "<div>\n",
       "<style scoped>\n",
       "    .dataframe tbody tr th:only-of-type {\n",
       "        vertical-align: middle;\n",
       "    }\n",
       "\n",
       "    .dataframe tbody tr th {\n",
       "        vertical-align: top;\n",
       "    }\n",
       "\n",
       "    .dataframe thead th {\n",
       "        text-align: right;\n",
       "    }\n",
       "</style>\n",
       "<table border=\"1\" class=\"dataframe\">\n",
       "  <thead>\n",
       "    <tr style=\"text-align: right;\">\n",
       "      <th></th>\n",
       "      <th>serviceCharge</th>\n",
       "      <th>telekomUploadSpeed</th>\n",
       "      <th>totalRent</th>\n",
       "    </tr>\n",
       "  </thead>\n",
       "  <tbody>\n",
       "    <tr>\n",
       "      <th>count</th>\n",
       "      <td>268850.000000</td>\n",
       "      <td>268850.000000</td>\n",
       "      <td>2.688500e+05</td>\n",
       "    </tr>\n",
       "    <tr>\n",
       "      <th>mean</th>\n",
       "      <td>150.789643</td>\n",
       "      <td>30.193975</td>\n",
       "      <td>8.634546e+02</td>\n",
       "    </tr>\n",
       "    <tr>\n",
       "      <th>std</th>\n",
       "      <td>304.319451</td>\n",
       "      <td>15.729180</td>\n",
       "      <td>3.063164e+04</td>\n",
       "    </tr>\n",
       "    <tr>\n",
       "      <th>min</th>\n",
       "      <td>0.000000</td>\n",
       "      <td>1.000000</td>\n",
       "      <td>0.000000e+00</td>\n",
       "    </tr>\n",
       "    <tr>\n",
       "      <th>25%</th>\n",
       "      <td>96.000000</td>\n",
       "      <td>10.000000</td>\n",
       "      <td>4.950000e+02</td>\n",
       "    </tr>\n",
       "    <tr>\n",
       "      <th>50%</th>\n",
       "      <td>135.000000</td>\n",
       "      <td>40.000000</td>\n",
       "      <td>6.500000e+02</td>\n",
       "    </tr>\n",
       "    <tr>\n",
       "      <th>75%</th>\n",
       "      <td>185.000000</td>\n",
       "      <td>40.000000</td>\n",
       "      <td>9.000000e+02</td>\n",
       "    </tr>\n",
       "    <tr>\n",
       "      <th>max</th>\n",
       "      <td>146118.000000</td>\n",
       "      <td>100.000000</td>\n",
       "      <td>1.575154e+07</td>\n",
       "    </tr>\n",
       "  </tbody>\n",
       "</table>\n",
       "</div>"
      ],
      "text/plain": [
       "       serviceCharge  telekomUploadSpeed     totalRent\n",
       "count  268850.000000       268850.000000  2.688500e+05\n",
       "mean      150.789643           30.193975  8.634546e+02\n",
       "std       304.319451           15.729180  3.063164e+04\n",
       "min         0.000000            1.000000  0.000000e+00\n",
       "25%        96.000000           10.000000  4.950000e+02\n",
       "50%       135.000000           40.000000  6.500000e+02\n",
       "75%       185.000000           40.000000  9.000000e+02\n",
       "max    146118.000000          100.000000  1.575154e+07"
      ]
     },
     "execution_count": 80,
     "metadata": {},
     "output_type": "execute_result"
    }
   ],
   "source": [
    "df.describe()"
   ]
  },
  {
   "cell_type": "markdown",
   "id": "ac0a6096-1a06-4db5-af8d-e3de828d1ef1",
   "metadata": {},
   "source": [
    "# Outliers"
   ]
  },
  {
   "cell_type": "code",
   "execution_count": 81,
   "id": "636a4556-a765-49f6-b22f-f393fffc23b4",
   "metadata": {},
   "outputs": [
    {
     "data": {
      "text/plain": [
       "serviceCharge         197151.674512\n",
       "telekomUploadSpeed        -0.765917\n",
       "totalRent             260044.391607\n",
       "dtype: float64"
      ]
     },
     "execution_count": 81,
     "metadata": {},
     "output_type": "execute_result"
    }
   ],
   "source": [
    "# Return unbiased kurtosis over requested axis using Fisher's definition of kurtosis (kurtosis of normal == 0.0).\n",
    "# The result is normalized by N-1\n",
    "kurt = df.kurt(numeric_only=True)[:]\n",
    "kurt"
   ]
  },
  {
   "cell_type": "code",
   "execution_count": 82,
   "id": "08498cab-54a5-479c-a29c-565cc2ff9727",
   "metadata": {},
   "outputs": [],
   "source": [
    "outliers = ['serviceCharge', 'totalRent']"
   ]
  },
  {
   "cell_type": "code",
   "execution_count": 83,
   "id": "b26b7b76-a2a0-493a-ae9b-1d2be4ea145e",
   "metadata": {},
   "outputs": [
    {
     "data": {
      "image/png": "[encoded data removed]",
      "text/plain": [
       "<Figure size 288x288 with 1 Axes>"
      ]
     },
     "metadata": {
      "needs_background": "light"
     },
     "output_type": "display_data"
    },
    {
     "data": {
      "image/png": "[encoded data removed]",
      "text/plain": [
       "<Figure size 288x288 with 1 Axes>"
      ]
     },
     "metadata": {
      "needs_background": "light"
     },
     "output_type": "display_data"
    }
   ],
   "source": [
    "for col in outliers:\n",
    "    plt.figure(figsize=(4, 4))\n",
    "    df.boxplot(column=[col])"
   ]
  },
  {
   "cell_type": "code",
   "execution_count": 84,
   "id": "cacda67e-ae65-49a8-8636-331a03e14db8",
   "metadata": {},
   "outputs": [],
   "source": [
    "def outliers_iqr(ys):\n",
    "    quartile_1, quartile_3 = np.percentile(ys, [25, 75])\n",
    "    iqr = quartile_3 - quartile_1\n",
    "    lower_bound = quartile_1 - (iqr * 1.5)\n",
    "    upper_bound = quartile_3 + (iqr * 1.5)\n",
    "    return np.where((ys > upper_bound) | (ys < lower_bound))"
   ]
  },
  {
   "cell_type": "code",
   "execution_count": 85,
   "id": "b4a585b0-a157-4beb-bbc8-6cf4b34f0172",
   "metadata": {},
   "outputs": [
    {
     "name": "stdout",
     "output_type": "stream",
     "text": [
      "serviceCharge: 10271\n",
      "totalRent: 20025\n"
     ]
    }
   ],
   "source": [
    "for col in outliers:\n",
    "    print(f'{col}: {len(outliers_iqr(df[col])[0])}')"
   ]
  },
  {
   "cell_type": "code",
   "execution_count": 86,
   "id": "a285b010-0085-427e-b45f-548416fdbfcf",
   "metadata": {},
   "outputs": [],
   "source": [
    "def outliers_z_score(ys):\n",
    "    threshold = 3\n",
    "    mean_y = np.mean(ys)\n",
    "    stdev_y = np.std(ys)\n",
    "    z_scores = [(y - mean_y) / stdev_y for y in ys]\n",
    "    return np.where(np.abs(z_scores) > threshold)"
   ]
  },
  {
   "cell_type": "code",
   "execution_count": 87,
   "id": "33175fba-2f84-48b4-b387-794b17f6a0f7",
   "metadata": {},
   "outputs": [
    {
     "name": "stdout",
     "output_type": "stream",
     "text": [
      "serviceCharge: 98\n",
      "totalRent: 6\n"
     ]
    }
   ],
   "source": [
    "for col in outliers:\n",
    "    print(f'{col}: {len(outliers_z_score(df[col])[0])}')"
   ]
  },
  {
   "cell_type": "code",
   "execution_count": 88,
   "id": "436e4d01-13f7-4745-a836-5312ba840034",
   "metadata": {},
   "outputs": [],
   "source": [
    "for i in outliers:\n",
    "    quartile_1, quartile_3 = np.percentile(df[i], [25, 75])\n",
    "    iqr = quartile_3 - quartile_1\n",
    "    lower_bound = quartile_1 - (iqr * 1.5)\n",
    "    upper_bound = quartile_3 + (iqr * 1.5)\n",
    "    df = df[df[i]<upper_bound]\n",
    "    df = df[df[i]>lower_bound]"
   ]
  },
  {
   "cell_type": "code",
   "execution_count": 89,
   "id": "23998495-10d3-4cb1-bf3e-020efa83694c",
   "metadata": {},
   "outputs": [],
   "source": [
    "#for i in outliers:\n",
    "#     mean_y = np.mean(df[i])\n",
    "#     stdev_y = np.std(df[i])\n",
    "#     lower_bound = mean_y - (3 * stdev_y)\n",
    "#     upper_bound = mean_y + (3 * stdev_y)\n",
    "#     df = df[df[i]<upper_bound]\n",
    "#     df = df[df[i]>lower_bound]"
   ]
  },
  {
   "cell_type": "markdown",
   "id": "cac6fac6-e243-416a-a4a5-e3b7908dc706",
   "metadata": {},
   "source": [
    "# Feature engineering"
   ]
  },
  {
   "cell_type": "code",
   "execution_count": 90,
   "id": "ef3ebe79-fea5-4f3d-b35a-73bb9cdabf42",
   "metadata": {},
   "outputs": [
    {
     "data": {
      "text/plain": [
       "central_heating                   159389\n",
       "district_heating                   22260\n",
       "gas_heating                        18191\n",
       "self_contained_central_heating     18058\n",
       "floor_heating                      12100\n",
       "oil_heating                         4642\n",
       "heat_pump                           2175\n",
       "combined_heat_and_power_plant       1519\n",
       "night_storage_heater                1322\n",
       "electric_heating                     871\n",
       "wood_pellet_heating                  780\n",
       "stove_heating                        335\n",
       "solar_heating                        128\n",
       "Name: heatingType, dtype: int64"
      ]
     },
     "execution_count": 90,
     "metadata": {},
     "output_type": "execute_result"
    }
   ],
   "source": [
    "df.heatingType.value_counts()"
   ]
  },
  {
   "cell_type": "code",
   "execution_count": 91,
   "id": "7ead70ea-830e-497b-a738-85739479c840",
   "metadata": {},
   "outputs": [
    {
     "data": {
      "image/png": "[encoded data removed]",
      "text/plain": [
       "<Figure size 720x720 with 1 Axes>"
      ]
     },
     "metadata": {
      "needs_background": "light"
     },
     "output_type": "display_data"
    }
   ],
   "source": [
    "plt.figure(figsize=(10, 10))\n",
    "data = df.heatingType.value_counts()[:10]\n",
    "x = list(data.index)\n",
    "y = list(data.values)\n",
    "x.reverse()\n",
    "y.reverse()\n",
    "\n",
    "plt.title(\"heatingType\")\n",
    "plt.ylabel(\"heatingType\")\n",
    "plt.xlabel(\"Number\")\n",
    "\n",
    "plt.barh(x, y)\n",
    "plt.show()"
   ]
  },
  {
   "cell_type": "code",
   "execution_count": 92,
   "id": "13d1ee22-fc50-4c41-824e-9e3fd107a406",
   "metadata": {},
   "outputs": [],
   "source": [
    "def filter(x):\n",
    "    if x in [\n",
    "    'oil_heating', 'combined_heat_and_power_plant', 'heat_pump', 'night_storage_heater', \n",
    "    'wood_pellet_heating', 'electric_heating', 'stove_heating', 'solar_heating'\n",
    "] :\n",
    "        x = 'other'\n",
    "        return x\n",
    "    else:\n",
    "        return x\n",
    "df.heatingType = df.heatingType.apply(filter)"
   ]
  },
  {
   "cell_type": "code",
   "execution_count": 93,
   "id": "7e6e7b08-568b-4787-9aa9-bc7fdbba84ea",
   "metadata": {},
   "outputs": [
    {
     "data": {
      "image/png": "[encoded data removed]",
      "text/plain": [
       "<Figure size 720x720 with 1 Axes>"
      ]
     },
     "metadata": {
      "needs_background": "light"
     },
     "output_type": "display_data"
    }
   ],
   "source": [
    "plt.figure(figsize=(10, 10))\n",
    "data = df.heatingType.value_counts()[:10]\n",
    "x = list(data.index)\n",
    "y = list(data.values)\n",
    "x.reverse()\n",
    "y.reverse()\n",
    "\n",
    "plt.title(\"heatingType\")\n",
    "plt.ylabel(\"heatingType\")\n",
    "plt.xlabel(\"Number\")\n",
    "\n",
    "plt.barh(x, y)\n",
    "plt.show()"
   ]
  },
  {
   "cell_type": "code",
   "execution_count": 94,
   "id": "40a9dbf2-46fe-426d-bb83-98e2d3dcc60f",
   "metadata": {},
   "outputs": [
    {
     "data": {
      "image/png": "[encoded data removed]",
      "text/plain": [
       "<Figure size 1440x1440 with 4 Axes>"
      ]
     },
     "metadata": {
      "needs_background": "light"
     },
     "output_type": "display_data"
    }
   ],
   "source": [
    "# Visualizing the distribution for every \"feature\"\n",
    "df.hist(edgecolor=\"black\", linewidth=1.2, figsize=(20, 20))\n",
    "plt.show()"
   ]
  },
  {
   "cell_type": "code",
   "execution_count": 95,
   "id": "cb86e028-51bb-4c36-8c1a-61e80eea8b1b",
   "metadata": {},
   "outputs": [
    {
     "data": {
      "text/html": [
       "<div>\n",
       "<style scoped>\n",
       "    .dataframe tbody tr th:only-of-type {\n",
       "        vertical-align: middle;\n",
       "    }\n",
       "\n",
       "    .dataframe tbody tr th {\n",
       "        vertical-align: top;\n",
       "    }\n",
       "\n",
       "    .dataframe thead th {\n",
       "        text-align: right;\n",
       "    }\n",
       "</style>\n",
       "<table border=\"1\" class=\"dataframe\">\n",
       "  <thead>\n",
       "    <tr style=\"text-align: right;\">\n",
       "      <th></th>\n",
       "      <th>serviceCharge</th>\n",
       "      <th>telekomUploadSpeed</th>\n",
       "      <th>totalRent</th>\n",
       "    </tr>\n",
       "  </thead>\n",
       "  <tbody>\n",
       "    <tr>\n",
       "      <th>serviceCharge</th>\n",
       "      <td>1.000000</td>\n",
       "      <td>0.026520</td>\n",
       "      <td>0.528393</td>\n",
       "    </tr>\n",
       "    <tr>\n",
       "      <th>telekomUploadSpeed</th>\n",
       "      <td>0.026520</td>\n",
       "      <td>1.000000</td>\n",
       "      <td>0.039919</td>\n",
       "    </tr>\n",
       "    <tr>\n",
       "      <th>totalRent</th>\n",
       "      <td>0.528393</td>\n",
       "      <td>0.039919</td>\n",
       "      <td>1.000000</td>\n",
       "    </tr>\n",
       "  </tbody>\n",
       "</table>\n",
       "</div>"
      ],
      "text/plain": [
       "                    serviceCharge  telekomUploadSpeed  totalRent\n",
       "serviceCharge            1.000000            0.026520   0.528393\n",
       "telekomUploadSpeed       0.026520            1.000000   0.039919\n",
       "totalRent                0.528393            0.039919   1.000000"
      ]
     },
     "execution_count": 95,
     "metadata": {},
     "output_type": "execute_result"
    }
   ],
   "source": [
    "df.corr()"
   ]
  },
  {
   "cell_type": "code",
   "execution_count": 101,
   "id": "192ab372-7515-46b8-811c-010bfc715146",
   "metadata": {},
   "outputs": [],
   "source": [
    "df_copy = df.copy()"
   ]
  },
  {
   "cell_type": "code",
   "execution_count": 102,
   "id": "6e5869c7-9e11-4a68-91d9-3bbb76015f08",
   "metadata": {},
   "outputs": [],
   "source": [
    "df_copy['serviceCharge-2'] = df.serviceCharge ** 2\n",
    "df_copy['telekomUploadSpeed-2'] = df.telekomUploadSpeed ** 2\n",
    "df_copy['serviceCharge-3'] = df.serviceCharge ** 3\n",
    "df_copy['telekomUploadSpeed-3'] = df.telekomUploadSpeed ** 3"
   ]
  },
  {
   "cell_type": "code",
   "execution_count": 103,
   "id": "486f9dee-7220-4aa0-9b7f-2b23fbef7a0b",
   "metadata": {
    "tags": []
   },
   "outputs": [
    {
     "data": {
      "text/html": [
       "<div>\n",
       "<style scoped>\n",
       "    .dataframe tbody tr th:only-of-type {\n",
       "        vertical-align: middle;\n",
       "    }\n",
       "\n",
       "    .dataframe tbody tr th {\n",
       "        vertical-align: top;\n",
       "    }\n",
       "\n",
       "    .dataframe thead th {\n",
       "        text-align: right;\n",
       "    }\n",
       "</style>\n",
       "<table border=\"1\" class=\"dataframe\">\n",
       "  <thead>\n",
       "    <tr style=\"text-align: right;\">\n",
       "      <th></th>\n",
       "      <th>serviceCharge</th>\n",
       "      <th>telekomUploadSpeed</th>\n",
       "      <th>totalRent</th>\n",
       "      <th>serviceCharge-2</th>\n",
       "      <th>telekomUploadSpeed-2</th>\n",
       "      <th>serviceCharge-3</th>\n",
       "      <th>telekomUploadSpeed-3</th>\n",
       "    </tr>\n",
       "  </thead>\n",
       "  <tbody>\n",
       "    <tr>\n",
       "      <th>serviceCharge</th>\n",
       "      <td>1.000000</td>\n",
       "      <td>0.026520</td>\n",
       "      <td>0.528393</td>\n",
       "      <td>0.967262</td>\n",
       "      <td>0.021715</td>\n",
       "      <td>0.902703</td>\n",
       "      <td>0.015366</td>\n",
       "    </tr>\n",
       "    <tr>\n",
       "      <th>telekomUploadSpeed</th>\n",
       "      <td>0.026520</td>\n",
       "      <td>1.000000</td>\n",
       "      <td>0.039919</td>\n",
       "      <td>0.021641</td>\n",
       "      <td>0.979282</td>\n",
       "      <td>0.017287</td>\n",
       "      <td>0.843032</td>\n",
       "    </tr>\n",
       "    <tr>\n",
       "      <th>totalRent</th>\n",
       "      <td>0.528393</td>\n",
       "      <td>0.039919</td>\n",
       "      <td>1.000000</td>\n",
       "      <td>0.536230</td>\n",
       "      <td>0.029014</td>\n",
       "      <td>0.506327</td>\n",
       "      <td>0.017061</td>\n",
       "    </tr>\n",
       "    <tr>\n",
       "      <th>serviceCharge-2</th>\n",
       "      <td>0.967262</td>\n",
       "      <td>0.021641</td>\n",
       "      <td>0.536230</td>\n",
       "      <td>1.000000</td>\n",
       "      <td>0.016844</td>\n",
       "      <td>0.980522</td>\n",
       "      <td>0.011017</td>\n",
       "    </tr>\n",
       "    <tr>\n",
       "      <th>telekomUploadSpeed-2</th>\n",
       "      <td>0.021715</td>\n",
       "      <td>0.979282</td>\n",
       "      <td>0.029014</td>\n",
       "      <td>0.016844</td>\n",
       "      <td>1.000000</td>\n",
       "      <td>0.012814</td>\n",
       "      <td>0.930318</td>\n",
       "    </tr>\n",
       "    <tr>\n",
       "      <th>serviceCharge-3</th>\n",
       "      <td>0.902703</td>\n",
       "      <td>0.017287</td>\n",
       "      <td>0.506327</td>\n",
       "      <td>0.980522</td>\n",
       "      <td>0.012814</td>\n",
       "      <td>1.000000</td>\n",
       "      <td>0.007688</td>\n",
       "    </tr>\n",
       "    <tr>\n",
       "      <th>telekomUploadSpeed-3</th>\n",
       "      <td>0.015366</td>\n",
       "      <td>0.843032</td>\n",
       "      <td>0.017061</td>\n",
       "      <td>0.011017</td>\n",
       "      <td>0.930318</td>\n",
       "      <td>0.007688</td>\n",
       "      <td>1.000000</td>\n",
       "    </tr>\n",
       "  </tbody>\n",
       "</table>\n",
       "</div>"
      ],
      "text/plain": [
       "                      serviceCharge  telekomUploadSpeed  totalRent  \\\n",
       "serviceCharge              1.000000            0.026520   0.528393   \n",
       "telekomUploadSpeed         0.026520            1.000000   0.039919   \n",
       "totalRent                  0.528393            0.039919   1.000000   \n",
       "serviceCharge-2            0.967262            0.021641   0.536230   \n",
       "telekomUploadSpeed-2       0.021715            0.979282   0.029014   \n",
       "serviceCharge-3            0.902703            0.017287   0.506327   \n",
       "telekomUploadSpeed-3       0.015366            0.843032   0.017061   \n",
       "\n",
       "                      serviceCharge-2  telekomUploadSpeed-2  serviceCharge-3  \\\n",
       "serviceCharge                0.967262              0.021715         0.902703   \n",
       "telekomUploadSpeed           0.021641              0.979282         0.017287   \n",
       "totalRent                    0.536230              0.029014         0.506327   \n",
       "serviceCharge-2              1.000000              0.016844         0.980522   \n",
       "telekomUploadSpeed-2         0.016844              1.000000         0.012814   \n",
       "serviceCharge-3              0.980522              0.012814         1.000000   \n",
       "telekomUploadSpeed-3         0.011017              0.930318         0.007688   \n",
       "\n",
       "                      telekomUploadSpeed-3  \n",
       "serviceCharge                     0.015366  \n",
       "telekomUploadSpeed                0.843032  \n",
       "totalRent                         0.017061  \n",
       "serviceCharge-2                   0.011017  \n",
       "telekomUploadSpeed-2              0.930318  \n",
       "serviceCharge-3                   0.007688  \n",
       "telekomUploadSpeed-3              1.000000  "
      ]
     },
     "execution_count": 103,
     "metadata": {},
     "output_type": "execute_result"
    }
   ],
   "source": [
    "df_copy.corr()"
   ]
  },
  {
   "cell_type": "code",
   "execution_count": 104,
   "id": "ba62bd34-c85b-4b2e-b4d0-44b224f0b6c2",
   "metadata": {},
   "outputs": [],
   "source": [
    "df['serviceCharge'] = df.serviceCharge ** 2"
   ]
  },
  {
   "cell_type": "markdown",
   "id": "f940ee49-4922-4dae-bbf9-ee5e6e7718f1",
   "metadata": {
    "tags": []
   },
   "source": [
    "# Preprocessing"
   ]
  },
  {
   "cell_type": "code",
   "execution_count": 30,
   "id": "97b60b8a-14ab-49af-b98f-50e951a8d898",
   "metadata": {},
   "outputs": [
    {
     "data": {
      "text/plain": [
       "Index(['serviceCharge', 'heatingType', 'telekomUploadSpeed', 'totalRent'], dtype='object')"
      ]
     },
     "execution_count": 30,
     "metadata": {},
     "output_type": "execute_result"
    }
   ],
   "source": [
    "df.columns"
   ]
  },
  {
   "cell_type": "code",
   "execution_count": 31,
   "id": "36649fb3-5399-4792-b091-9da269636f60",
   "metadata": {},
   "outputs": [],
   "source": [
    "y = df.pop('totalRent')\n",
    "X = df"
   ]
  },
  {
   "cell_type": "code",
   "execution_count": 32,
   "id": "b670a1c9-c706-47b4-99a6-2c693a481d46",
   "metadata": {},
   "outputs": [
    {
     "data": {
      "text/plain": [
       "Index(['serviceCharge', 'heatingType', 'telekomUploadSpeed'], dtype='object')"
      ]
     },
     "execution_count": 32,
     "metadata": {},
     "output_type": "execute_result"
    }
   ],
   "source": [
    "X.columns"
   ]
  },
  {
   "cell_type": "code",
   "execution_count": 33,
   "id": "6c1f922f-db8c-4f12-be81-2b2a61f534fb",
   "metadata": {},
   "outputs": [],
   "source": [
    "y = pd.DataFrame(data=y, columns=['totalRent'])"
   ]
  },
  {
   "cell_type": "code",
   "execution_count": 34,
   "id": "a9bf0cc1-d4c7-4452-a0a7-8d1f133598f4",
   "metadata": {},
   "outputs": [
    {
     "data": {
      "text/html": [
       "<div>\n",
       "<style scoped>\n",
       "    .dataframe tbody tr th:only-of-type {\n",
       "        vertical-align: middle;\n",
       "    }\n",
       "\n",
       "    .dataframe tbody tr th {\n",
       "        vertical-align: top;\n",
       "    }\n",
       "\n",
       "    .dataframe thead th {\n",
       "        text-align: right;\n",
       "    }\n",
       "</style>\n",
       "<table border=\"1\" class=\"dataframe\">\n",
       "  <thead>\n",
       "    <tr style=\"text-align: right;\">\n",
       "      <th></th>\n",
       "      <th>totalRent</th>\n",
       "    </tr>\n",
       "  </thead>\n",
       "  <tbody>\n",
       "    <tr>\n",
       "      <th>43245</th>\n",
       "      <td>850.0</td>\n",
       "    </tr>\n",
       "    <tr>\n",
       "      <th>153228</th>\n",
       "      <td>1170.0</td>\n",
       "    </tr>\n",
       "    <tr>\n",
       "      <th>101501</th>\n",
       "      <td>800.0</td>\n",
       "    </tr>\n",
       "  </tbody>\n",
       "</table>\n",
       "</div>"
      ],
      "text/plain": [
       "        totalRent\n",
       "43245       850.0\n",
       "153228     1170.0\n",
       "101501      800.0"
      ]
     },
     "execution_count": 34,
     "metadata": {},
     "output_type": "execute_result"
    }
   ],
   "source": [
    "X_train,X_test,y_train,y_test = train_test_split(X,y,test_size=0.2)\n",
    "\n",
    "y_train.head(3)"
   ]
  },
  {
   "cell_type": "code",
   "execution_count": 35,
   "id": "2731b8b9-1afc-4b25-bc83-30b272595a93",
   "metadata": {},
   "outputs": [],
   "source": [
    "ohe = OneHotEncoder(handle_unknown='ignore', sparse=False)\n",
    "ss = StandardScaler()"
   ]
  },
  {
   "cell_type": "code",
   "execution_count": 36,
   "id": "95655d86-2b5c-45fb-9f95-137986ec2db9",
   "metadata": {},
   "outputs": [],
   "source": [
    "preprocessor_x = ColumnTransformer(\n",
    "    transformers=[\n",
    "            ('serviceCharge', ss, ['serviceCharge']),\n",
    "            ('telekomUploadSpeed', ss, ['telekomUploadSpeed']),\n",
    "            ('heatingType', ohe, ['heatingType']),       \n",
    "])\n",
    "preprocessor_y = ColumnTransformer(\n",
    "    transformers=[\n",
    "            ('totalRent', ss, ['totalRent']),       \n",
    "])\n"
   ]
  },
  {
   "cell_type": "code",
   "execution_count": 37,
   "id": "238d65af-1cc7-43ca-a92c-d15c0aa3600d",
   "metadata": {},
   "outputs": [],
   "source": [
    "fitter_y = preprocessor_y.fit(y_train)\n",
    "fitter_x = preprocessor_x.fit(X_train)"
   ]
  },
  {
   "cell_type": "code",
   "execution_count": 38,
   "id": "56b097c1-dc41-4eb4-adde-5e952bfee85f",
   "metadata": {},
   "outputs": [],
   "source": [
    "y_train = fitter_y.transform(y_train)\n",
    "y_test = fitter_y.transform(y_test)\n",
    "X_train = fitter_x.transform(X_train)\n",
    "X_test = fitter_x.transform(X_test)"
   ]
  },
  {
   "cell_type": "code",
   "execution_count": 39,
   "id": "6808ebbb-e8e6-4dda-a232-be245e156ba8",
   "metadata": {},
   "outputs": [],
   "source": [
    "m, n = y_train.shape\n",
    "x, z = y_test.shape\n",
    "y_train = y_train.reshape(m, )\n",
    "y_test = y_test.reshape(x, )"
   ]
  },
  {
   "cell_type": "code",
   "execution_count": 40,
   "id": "15e0788e-9eac-449e-8ece-53abec6b8e91",
   "metadata": {},
   "outputs": [
    {
     "name": "stdout",
     "output_type": "stream",
     "text": [
      "train x shape: (193416, 8)\n",
      "train y shape: (193416,)\n",
      "test x shape: (48354, 8)\n",
      "test y shape: (48354,)\n"
     ]
    }
   ],
   "source": [
    "print(f'train x shape: {X_train.shape}')\n",
    "print(f'train y shape: {y_train.shape}')\n",
    "print(f'test x shape: {X_test.shape}')\n",
    "print(f'test y shape: {y_test.shape}')"
   ]
  },
  {
   "cell_type": "markdown",
   "id": "b64baedf-8f74-45dd-ac4b-5a4a064fbece",
   "metadata": {},
   "source": [
    "# Scratch"
   ]
  },
  {
   "cell_type": "code",
   "execution_count": 41,
   "id": "b9a50e22-a0ea-4fef-9604-6964076e9031",
   "metadata": {},
   "outputs": [],
   "source": [
    "# Linear reggression\n",
    "class Net() :   \n",
    "    def __init__( self, learning_rate=0.01 , iterations=1000 , method='mse') :\n",
    "        self.learning_rate = learning_rate\n",
    "        self.iterations = iterations \n",
    "        self.method = method\n",
    "\n",
    "    \n",
    "    # Function for model training        \n",
    "    def fit( self, X, Y ) : \n",
    "        # no_of_training_examples, no_of_features\n",
    "        self.m, self.n = X.shape \n",
    "        # weight initialization \n",
    "        self.W = np.random.normal(loc=0.0, scale=0.001, size=self.n)\n",
    "        self.b = 0 \n",
    "        self.X = X\n",
    "        self.Y = Y \n",
    "        # gradient descent learning         \n",
    "        for i in range( self.iterations ) :\n",
    "            self.update_weights(X, Y)  \n",
    "        return self\n",
    "    \n",
    "    \n",
    "    # Helper function to update weights in gradient descent \n",
    "    def update_weights( self, X, Y ) :\n",
    "        Y_pred = self.predict( X )\n",
    "        # calculate gradients\n",
    "        \n",
    "        # Linear reggression with minimum square error\n",
    "        if self.method == 'mse':\n",
    "            se = Y - Y_pred\n",
    "            dW = - ( 2 * ( X.T ).dot( se )  ) / self.m\n",
    "            db = - 2 * np.sum( se ) / self.m\n",
    "    \n",
    "            \n",
    "        # Linear reggression with minimum absolute error\n",
    "        elif self.method == 'ae':\n",
    "            se = abs(Y - Y_pred) / 2\n",
    "            dW = - ( 2 * ( X.T ).dot( se )  ) / self.m\n",
    "            db = - 2 * np.sum( se ) / self.m\n",
    "        \n",
    "        # Linear reggression with Epsilon Sensitive Error\n",
    "        elif self.method == 'ese':\n",
    "            pass\n",
    "        \n",
    "        self.W = self.W - self.learning_rate * dW\n",
    "        self.b = self.b - self.learning_rate * db \n",
    "        return self\n",
    "    \n",
    "    # Hypothetical function  h( x )  \n",
    "    def predict( self, X ) :\n",
    "        return (X.dot( self.W ) + self.b)"
   ]
  },
  {
   "cell_type": "markdown",
   "id": "8a273cdf-ecbf-4d13-9948-e617d4585b51",
   "metadata": {},
   "source": [
    "# Linear reggression with minimum square error"
   ]
  },
  {
   "cell_type": "code",
   "execution_count": 42,
   "id": "5d7e1f01-da6b-45f2-a7db-28ed0b8f7477",
   "metadata": {},
   "outputs": [],
   "source": [
    "model_mse = Net(method='mse')"
   ]
  },
  {
   "cell_type": "code",
   "execution_count": 43,
   "id": "75a5a467-6942-401a-8d6f-baa0a46f2381",
   "metadata": {},
   "outputs": [
    {
     "data": {
      "text/plain": [
       "<__main__.Net at 0x7fb72a2126d0>"
      ]
     },
     "execution_count": 43,
     "metadata": {},
     "output_type": "execute_result"
    }
   ],
   "source": [
    "model_mse.fit(X_train, y_train)"
   ]
  },
  {
   "cell_type": "code",
   "execution_count": 44,
   "id": "14280d8b-dfd7-4c4f-849d-604e411b416e",
   "metadata": {},
   "outputs": [
    {
     "name": "stdout",
     "output_type": "stream",
     "text": [
      "[ 0.52208362  0.02680594 -0.20009447 -0.17079783  0.37538137 -0.01294388\n",
      "  0.11192667  0.0196297 ]\n",
      "0.12159840195174969\n",
      "linear reggression R^2: test 0.31839611301840887\n"
     ]
    }
   ],
   "source": [
    "print(model_mse.W)\n",
    "print(model_mse.b)\n",
    "y_pre_test_mse = model_mse.predict(X_test)\n",
    "print('linear reggression R^2: test', metrics.r2_score(y_test, y_pre_test_mse))"
   ]
  },
  {
   "cell_type": "markdown",
   "id": "342a5690-91ee-4d57-88ff-9c46999dcfa9",
   "metadata": {},
   "source": [
    "# Linear reggression with Absolute Error"
   ]
  },
  {
   "cell_type": "code",
   "execution_count": 45,
   "id": "5fed7056-3363-4231-9c6b-e27f025ff257",
   "metadata": {},
   "outputs": [],
   "source": [
    "model_ae = Net(method='ae')"
   ]
  },
  {
   "cell_type": "code",
   "execution_count": 46,
   "id": "a1751c16-f566-44b4-8226-235fdc2acf6f",
   "metadata": {},
   "outputs": [
    {
     "data": {
      "text/plain": [
       "<__main__.Net at 0x7fb72a22b880>"
      ]
     },
     "execution_count": 46,
     "metadata": {},
     "output_type": "execute_result"
    }
   ],
   "source": [
    "model_ae.fit(X_train, y_train)"
   ]
  },
  {
   "cell_type": "code",
   "execution_count": 47,
   "id": "71b0fcd1-e9c4-43d4-8dda-44434623453b",
   "metadata": {},
   "outputs": [
    {
     "name": "stdout",
     "output_type": "stream",
     "text": [
      "[-20180.18370649  -4445.24324452 694114.48744498  58592.22575352\n",
      "  30532.45099915  47118.70813698  29518.457163    47623.71108411]\n",
      "907500.03945242\n",
      "linear reggression R^2: test -2016900326588.5405\n"
     ]
    }
   ],
   "source": [
    "print(model_ae.W)\n",
    "print(model_ae.b)\n",
    "y_pre_test_ae = model_ae.predict(X_test)\n",
    "y_pre_test_ae = y_pre_test_ae.reshape(-1, 1)\n",
    "print('linear reggression R^2: test', metrics.r2_score(y_test, y_pre_test_ae))"
   ]
  },
  {
   "cell_type": "markdown",
   "id": "cfe7d364-d05c-4dba-94be-e31100e24711",
   "metadata": {},
   "source": [
    "# Linear reggression with Epsilon Sensitive Error"
   ]
  },
  {
   "cell_type": "code",
   "execution_count": 48,
   "id": "da9c1831-aba8-448b-be91-f855c09fafb0",
   "metadata": {},
   "outputs": [],
   "source": [
    "# Linear reggression with Epsilon Sensitive Error\n",
    "model_mse = Net(method='ese')"
   ]
  },
  {
   "cell_type": "markdown",
   "id": "5e278326-0178-4bbe-964f-9d508d329a69",
   "metadata": {},
   "source": [
    "# Sklearn pakage"
   ]
  },
  {
   "cell_type": "markdown",
   "id": "66d443ad-1d3c-462c-843f-e53c8d8e6c2f",
   "metadata": {},
   "source": [
    "# LinearRegression"
   ]
  },
  {
   "cell_type": "code",
   "execution_count": 49,
   "id": "4bfd89b7-438b-4c7e-b077-81624bbb1242",
   "metadata": {},
   "outputs": [],
   "source": [
    "model_lr = LinearRegression()"
   ]
  },
  {
   "cell_type": "code",
   "execution_count": 50,
   "id": "c628a302-c0ab-49dd-8448-8f46ca3e4007",
   "metadata": {},
   "outputs": [
    {
     "data": {
      "text/plain": [
       "LinearRegression()"
      ]
     },
     "execution_count": 50,
     "metadata": {},
     "output_type": "execute_result"
    }
   ],
   "source": [
    "model_lr.fit(X_train, y_train)"
   ]
  },
  {
   "cell_type": "code",
   "execution_count": 51,
   "id": "e3b89436-9869-4b30-b97e-a006c5d9a88e",
   "metadata": {},
   "outputs": [
    {
     "data": {
      "text/plain": [
       "array([ 0.51555809,  0.02590222, -0.24363868, -0.26516864,  0.52002298,\n",
       "       -0.08164915,  0.1097482 , -0.0393147 ])"
      ]
     },
     "execution_count": 51,
     "metadata": {},
     "output_type": "execute_result"
    }
   ],
   "source": [
    "model_lr.coef_"
   ]
  },
  {
   "cell_type": "code",
   "execution_count": 52,
   "id": "3dc8235d-32e5-42d7-99e3-64c6b5200d3b",
   "metadata": {},
   "outputs": [
    {
     "name": "stdout",
     "output_type": "stream",
     "text": [
      "linear reggression Variance score train: 0.3219408156701733\n"
     ]
    }
   ],
   "source": [
    "print('linear reggression Variance score train:', model_lr.score(X_train, y_train))"
   ]
  },
  {
   "cell_type": "code",
   "execution_count": 53,
   "id": "96602c4a-ff4b-4b5f-8673-551fb0638123",
   "metadata": {},
   "outputs": [],
   "source": [
    "y_pred_test = model_lr.predict(X_test)"
   ]
  },
  {
   "cell_type": "code",
   "execution_count": 54,
   "id": "9644710e-f7e5-403e-87a6-f7d0e88b8266",
   "metadata": {},
   "outputs": [
    {
     "name": "stdout",
     "output_type": "stream",
     "text": [
      "linear reggression R^2: test 0.32044586857780966\n"
     ]
    }
   ],
   "source": [
    "print('linear reggression R^2: test', metrics.r2_score(y_test, y_pred_test))"
   ]
  },
  {
   "cell_type": "markdown",
   "id": "84beec3a-8f9a-4880-9a7b-ed7cd628f946",
   "metadata": {},
   "source": [
    "# Lasso"
   ]
  },
  {
   "cell_type": "code",
   "execution_count": 55,
   "id": "66846f04-06cc-4fcf-9939-0b36473b8df8",
   "metadata": {},
   "outputs": [],
   "source": [
    "model_lasso = Lasso()"
   ]
  },
  {
   "cell_type": "code",
   "execution_count": 56,
   "id": "205f91ee-bd3b-4f8d-b459-d998a9a3b914",
   "metadata": {},
   "outputs": [
    {
     "data": {
      "text/plain": [
       "Lasso()"
      ]
     },
     "execution_count": 56,
     "metadata": {},
     "output_type": "execute_result"
    }
   ],
   "source": [
    "model_lasso.fit(X_train, y_train)"
   ]
  },
  {
   "cell_type": "code",
   "execution_count": 57,
   "id": "1b996897-b135-46c9-801e-6c2b1b1d81c6",
   "metadata": {},
   "outputs": [
    {
     "data": {
      "text/plain": [
       "array([ 0.,  0., -0., -0.,  0.,  0.,  0., -0.])"
      ]
     },
     "execution_count": 57,
     "metadata": {},
     "output_type": "execute_result"
    }
   ],
   "source": [
    "model_lasso.coef_"
   ]
  },
  {
   "cell_type": "code",
   "execution_count": 58,
   "id": "9bee3edc-efe0-41f3-a13a-c83f8d4b4f2e",
   "metadata": {},
   "outputs": [
    {
     "name": "stdout",
     "output_type": "stream",
     "text": [
      "lasso Variance score train: 0.0\n"
     ]
    }
   ],
   "source": [
    "print('lasso Variance score train:', model_lasso.score(X_train, y_train))"
   ]
  },
  {
   "cell_type": "code",
   "execution_count": 59,
   "id": "542bcbf3-17cb-4e25-8859-52d0983268b2",
   "metadata": {},
   "outputs": [],
   "source": [
    "y_pred_test_lasso = model_lasso.predict(X_test)"
   ]
  },
  {
   "cell_type": "code",
   "execution_count": 60,
   "id": "66781c11-38c1-4503-ad92-0a4cf324a836",
   "metadata": {},
   "outputs": [
    {
     "name": "stdout",
     "output_type": "stream",
     "text": [
      "lasso reggression R^2: test -3.0146773031702878e-05\n"
     ]
    }
   ],
   "source": [
    "print('lasso reggression R^2: test', metrics.r2_score(y_test, y_pred_test_lasso))"
   ]
  },
  {
   "cell_type": "markdown",
   "id": "9d1aaddb-05db-4078-84ed-fae98d56c59a",
   "metadata": {},
   "source": [
    "# Ridge"
   ]
  },
  {
   "cell_type": "code",
   "execution_count": 61,
   "id": "fc0e711d-a45e-4422-b395-30d2d4dab0f9",
   "metadata": {},
   "outputs": [],
   "source": [
    "model_ridge = Ridge()"
   ]
  },
  {
   "cell_type": "code",
   "execution_count": 62,
   "id": "28d187a4-deae-495c-9b5d-f4374be11ebb",
   "metadata": {},
   "outputs": [
    {
     "data": {
      "text/plain": [
       "Ridge()"
      ]
     },
     "execution_count": 62,
     "metadata": {},
     "output_type": "execute_result"
    }
   ],
   "source": [
    "model_ridge.fit(X_train, y_train)"
   ]
  },
  {
   "cell_type": "code",
   "execution_count": 63,
   "id": "4e29be5d-da50-449e-9aa0-a480cba56eb3",
   "metadata": {},
   "outputs": [
    {
     "data": {
      "text/plain": [
       "array([ 0.51555714,  0.02590238, -0.24363015, -0.26514718,  0.51997659,\n",
       "       -0.0816368 ,  0.10974326, -0.03930573])"
      ]
     },
     "execution_count": 63,
     "metadata": {},
     "output_type": "execute_result"
    }
   ],
   "source": [
    "model_ridge.coef_"
   ]
  },
  {
   "cell_type": "code",
   "execution_count": 64,
   "id": "c9e96a96-809f-476e-bccc-8e920aeed3e2",
   "metadata": {},
   "outputs": [
    {
     "name": "stdout",
     "output_type": "stream",
     "text": [
      "Ridge Variance score train: 0.32194081549295994\n"
     ]
    }
   ],
   "source": [
    "print('Ridge Variance score train:', model_ridge.score(X_train, y_train))"
   ]
  },
  {
   "cell_type": "code",
   "execution_count": 65,
   "id": "0f598bbf-702e-45bc-8d74-d2777f4eb20a",
   "metadata": {},
   "outputs": [],
   "source": [
    "y_pred_test_ridge = model_ridge.predict(X_test)"
   ]
  },
  {
   "cell_type": "code",
   "execution_count": 66,
   "id": "5756f9ab-ff47-46eb-bfc2-bcc3334a8583",
   "metadata": {},
   "outputs": [
    {
     "name": "stdout",
     "output_type": "stream",
     "text": [
      "ridge reggression R^2: test 0.32044590799695927\n"
     ]
    }
   ],
   "source": [
    "print('ridge reggression R^2: test', metrics.r2_score(y_test, y_pred_test_ridge))"
   ]
  }
 ],
 "metadata": {
  "jupytext": {
   "cell_metadata_filter": "-all",
   "main_language": "python",
   "notebook_metadata_filter": "-all"
  },
  "kernelspec": {
   "display_name": "Python 3",
   "language": "python",
   "name": "python3"
  },
  "language_info": {
   "codemirror_mode": {
    "name": "ipython",
    "version": 3
   },
   "file_extension": ".py",
   "mimetype": "text/x-python",
   "name": "python",
   "nbconvert_exporter": "python",
   "pygments_lexer": "ipython3",
   "version": "3.8.8"
  }
 },
 "nbformat": 4,
 "nbformat_minor": 5
}
